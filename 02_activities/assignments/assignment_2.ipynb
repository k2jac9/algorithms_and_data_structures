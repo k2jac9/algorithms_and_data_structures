{
 "cells": [
  {
   "cell_type": "markdown",
   "metadata": {},
   "source": [
    "# Practice Interview\n",
    "\n",
    "## Objective\n",
    "\n",
    "_*The partner assignment aims to provide participants with the opportunity to practice coding in an interview context. You will analyze your partner's Assignment 1. Moreover, code reviews are common practice in a software development team. This assignment should give you a taste of the code review process.*_\n",
    "\n",
    "## Group Size\n",
    "\n",
    "Each group should have 2 people. You will be assigned a partner\n",
    "\n",
    "## Part 1:\n",
    "\n",
    "You and your partner must share each other's Assignment 1 submission."
   ]
  },
  {
   "cell_type": "markdown",
   "metadata": {},
   "source": [
    "\n",
    "## Part 2:\n",
    "\n",
    "Create a Jupyter Notebook, create 6 of the following headings, and complete the following for your partner's assignment 1:\n",
    "\n",
    "-   Paraphrase the problem in your own words.\n"
   ]
  },
  {
   "cell_type": "markdown",
   "metadata": {},
   "source": [
    "Imagine a tree that starts with one main point at the top (called the \"root\").\n",
    "\n",
    "From there, it splits into two branches at each step, like a family tree.\n",
    "\n",
    "The very bottom points (called \"leaves\") are the ones that don’t split anymore—they’re the endpoints.\n",
    "\n",
    "The task is to find all the possible paths from the top (root) to each of these bottom points (leaves).\n",
    "\n",
    "For each path, we write down the sequence of points you pass through from the top to the bottom. \n",
    "\n",
    "Finally, we collect all these sequences into a list"
   ]
  },
  {
   "cell_type": "markdown",
   "metadata": {},
   "source": [
    "\n",
    "-   Create 1 new example that demonstrates you understand the problem. Trace/walkthrough 1 example that your partner made and explain it.\n",
    "\n",
    "# Answers for this part will be commented. \n"
   ]
  },
  {
   "cell_type": "code",
   "execution_count": 1,
   "metadata": {},
   "outputs": [],
   "source": [
    "# root_1 = [5, 4, 8, 11, 13, 4, 7, 2, 1]\n",
    "\n",
    "# The tree looks like this:\n",
    "\n",
    "#       5\n",
    "#      / \\\n",
    "#     4   8\n",
    "#    /   / \\\n",
    "#   11  13  4\n",
    "#  /  \\    / \\\n",
    "# 7    2  5   1\n",
    "# The paths are:\n",
    "\n",
    "# [[5, 4, 11, 7], [5, 4, 11, 2], [5, 8, 13], [5, 8, 4, 5], [5, 8, 4, 1]]\n",
    "# The first path is [5, 4, 11, 7], the second is [5, 4, 11, 2], and so on."
   ]
  },
  {
   "cell_type": "code",
   "execution_count": 2,
   "metadata": {},
   "outputs": [],
   "source": [
    "# root_2 = [3, 9, 20, 15, 7]\n",
    "\n",
    "# The tree looks like this:\n",
    "\n",
    "#       3\n",
    "#      / \\\n",
    "#     9  20\n",
    "#       /  \\\n",
    "#      15   7\n",
    "# The paths are:\n",
    "\n",
    "# [[3, 9], [3, 20, 15], [3, 20, 7]]\n",
    "# The first path is [3, 9], the second is [3, 20, 15], and so on."
   ]
  },
  {
   "cell_type": "markdown",
   "metadata": {},
   "source": [
    "\n",
    "-   Copy the solution your partner wrote. \n"
   ]
  },
  {
   "cell_type": "code",
   "execution_count": 3,
   "metadata": {},
   "outputs": [],
   "source": [
    "from typing import List\n"
   ]
  },
  {
   "cell_type": "code",
   "execution_count": 4,
   "metadata": {},
   "outputs": [],
   "source": [
    "class TreeNode(object):\n",
    "    def __init__(self, val = 0, left = None, right = None):\n",
    "        self.val = val\n",
    "        self.left = left\n",
    "        self.right = right\n",
    "\n",
    "# This will fix the that intput is pointing to the hexadecimal representation of the memory location of the object\n",
    "    # def __repr__(self):\n",
    "    #     return f\"TreeNode({self.val})\""
   ]
  },
  {
   "cell_type": "code",
   "execution_count": 5,
   "metadata": {},
   "outputs": [
    {
     "name": "stdout",
     "output_type": "stream",
     "text": [
      "Input: <__main__.TreeNode object at 0x000002185E35C440>\n",
      "Output: [[5, 4, 11, 7], [5, 4, 11, 2], [5, 8, 13], [5, 8, 4, 5], [5, 8, 4, 1]]\n"
     ]
    }
   ],
   "source": [
    "def bt_path(root: TreeNode) -> List[List[int]]:\n",
    "    # List to store all the paths\n",
    "    paths = []\n",
    "    \n",
    "    # function to perform DFS traversal\n",
    "    def dfs(node, current_path):\n",
    "        if node is None:\n",
    "            return\n",
    "        \n",
    "        # Add the current node's value to the path\n",
    "        current_path.append(node.val)\n",
    "        \n",
    "        # If it's a leaf node, store the current path\n",
    "        if node.left is None and node.right is None:\n",
    "            paths.append(list(current_path))  \n",
    "        \n",
    "        # Recursively visit the left and right child nodes\n",
    "        dfs(node.left, current_path)\n",
    "        dfs(node.right, current_path)\n",
    "        \n",
    "        # Backtrack: remove the current node from the path before going back\n",
    "        current_path.pop()\n",
    "    \n",
    "    # Start DFS traversal from the root node\n",
    "    dfs(root, [])\n",
    "    \n",
    "    return paths\n",
    "\n",
    "\n",
    "# Example 1:\n",
    "# Input:\n",
    "root = TreeNode(5)\n",
    "root.left = TreeNode(4)\n",
    "root.right = TreeNode(8)\n",
    "root.left.left = TreeNode(11)\n",
    "root.left.left.left = TreeNode(7)\n",
    "root.left.left.right = TreeNode(2)\n",
    "root.right.left = TreeNode(13)\n",
    "root.right.right = TreeNode(4)\n",
    "root.right.right.left = TreeNode(5)\n",
    "root.right.right.right = TreeNode(1)\n",
    "\n",
    "#         5\n",
    "#        / \\\n",
    "#       4   8\n",
    "#      /   /  \\\n",
    "#     11  13   4\n",
    "#    /  \\     /  \\\n",
    "#   7    2   5    1\n",
    "\n",
    "\n",
    "print(f\"Input: {root}\")\n",
    "\n",
    "print(f\"Output: {bt_path(root)}\")"
   ]
  },
  {
   "cell_type": "markdown",
   "metadata": {},
   "source": [
    "\n",
    "-   Explain why their solution works in your own words.\n"
   ]
  },
  {
   "cell_type": "markdown",
   "metadata": {},
   "source": [
    "The solution imports the List module from the typing library and defines a TreeNode class to represent the nodes of a binary tree.\n",
    "\n",
    "The bt_path function takes the root node of a binary tree as input and returns a list of all root-to-leaf paths in the tree.\n",
    "\n",
    "This solution employs Depth-First Search (DFS) to find all root-to-leaf paths in the binary tree. The algorithm follows these steps:\n",
    "\n",
    "Starts at the root and traverses down the tree.\n",
    "\n",
    "Keeps track of the current path.\n",
    "\n",
    "When it reaches a leaf node (a node without children), it saves the path.\n",
    "\n",
    "Uses backtracking to remove the last node before moving to the next path.\n",
    "\n",
    "Returns all paths from root to leaf in a list."
   ]
  },
  {
   "cell_type": "markdown",
   "metadata": {},
   "source": [
    "\n",
    "-   Explain the problem’s time and space complexity in your own words.\n"
   ]
  },
  {
   "cell_type": "markdown",
   "metadata": {},
   "source": [
    "Time Complexity: O(N) because each node is visited once.\n",
    "\n",
    "Space Complexity: O(H + N), where H is the height of the tree and N is the total number of paths. \n",
    "\n",
    "The space complexity is dominated by the recursive call stack and the paths list. \n",
    "\n",
    "The recursive call stack can go as deep as the height of the tree, and the paths list can store all possible paths from root to leaf.\n"
   ]
  },
  {
   "cell_type": "markdown",
   "metadata": {},
   "source": [
    "\n",
    "-   Critique your partner's solution, including explanation, and if there is anything that should be adjusted.\n"
   ]
  },
  {
   "cell_type": "markdown",
   "metadata": {},
   "source": [
    "Alternative Solution\n",
    "\n",
    "Instead of DFS, we could use Breadth-First Search (BFS):\n",
    "\n",
    "Use a queue to traverse level by level.\n",
    "\n",
    "Start with the root node and an empty path.\n",
    "\n",
    "When reaching a leaf, store the path.\n",
    "\n",
    "Continue adding child nodes to the queue with their respective paths.\n",
    "\n",
    "This method iterates through nodes iteratively instead of recursively. \n",
    "\n",
    "The time complexity remains O(N), but the space complexity is O(N) due to the queue storing all nodes.\n",
    "\n",
    "The BFS approach is more suitable for large trees with a high branching factor.\n",
    "    "
   ]
  },
  {
   "cell_type": "markdown",
   "metadata": {},
   "source": [
    "\n",
    "## Part 3:\n",
    "\n",
    "Please write a 200 word reflection documenting your process from assignment 1, and your presentation and review experience with your partner at the bottom of the Jupyter Notebook under a new heading \"Reflection.\" Again, export this Notebook as pdf.\n"
   ]
  },
  {
   "cell_type": "markdown",
   "metadata": {},
   "source": [
    "### Reflection"
   ]
  },
  {
   "cell_type": "markdown",
   "metadata": {},
   "source": [
    "This assignment was a valuable learning experience. At first, understanding how to traverse a binary tree was challenging, but breaking the problem into steps made it easier. Using Depth First Search (DFS) felt natural because it allowed me to explore each path step by step before going back. Writing examples helped me think about different cases and tree structures.  \n",
    "\n",
    "The peer review process was just as helpful. Looking at my partner’s solution gave me a new perspective and showed different coding styles. Explaining time and space complexity during the review also deepened my understanding of these concepts. Discussing alternative approaches, like Bread First Search (BFS), helped me see another way to explore a tree. While DFS works well for recursion, BFS is useful for looking at each level of the tree before moving to the next.  \n",
    "\n",
    "This experience showed me the value of both writing and reviewing code. It helped me improve problem-solving, communication, and coding skills, which are all important for technical interviews and real-world programming. I feel more confident in analyzing problems and explaining my thinking. I am excited to take on more coding challenges and peer reviews to keep improving. Thank you for this opportunity!  "
   ]
  },
  {
   "cell_type": "markdown",
   "metadata": {},
   "source": [
    "\n",
    "## Evaluation Criteria\n",
    "\n",
    "We are looking for the similar points as Assignment 1\n",
    "\n",
    "-   Problem is accurately stated\n",
    "\n",
    "-   New example is correct and easily understandable\n",
    "\n",
    "-   Correctness, time, and space complexity of the coding solution\n",
    "\n",
    "-   Clarity in explaining why the solution works, its time and space complexity\n",
    "\n",
    "-   Quality of critique of your partner's assignment, if necessary\n"
   ]
  },
  {
   "cell_type": "markdown",
   "metadata": {},
   "source": [
    "## Submission Information\n",
    "\n",
    "🚨 **Please review our [Assignment Submission Guide](https://github.com/UofT-DSI/onboarding/blob/main/onboarding_documents/submissions.md)** 🚨 for detailed instructions on how to format, branch, and submit your work. Following these guidelines is crucial for your submissions to be evaluated correctly.\n",
    "\n",
    "### Submission Parameters:\n",
    "* Submission Due Date: `HH:MM AM/PM - DD/MM/YYYY`\n",
    "* The branch name for your repo should be: `assignment-2`\n",
    "* What to submit for this assignment:\n",
    "    * This Jupyter Notebook (assignment_2.ipynb) should be populated and should be the only change in your pull request.\n",
    "* What the pull request link should look like for this assignment: `https://github.com/<your_github_username>/algorithms_and_data_structures/pull/<pr_id>`\n",
    "    * Open a private window in your browser. Copy and paste the link to your pull request into the address bar. Make sure you can see your pull request properly. This helps the technical facilitator and learning support staff review your submission easily.\n",
    "\n",
    "Checklist:\n",
    "- [ ] Created a branch with the correct naming convention.\n",
    "- [ ] Ensured that the repository is public.\n",
    "- [ ] Reviewed the PR description guidelines and adhered to them.\n",
    "- [ ] Verify that the link is accessible in a private browser window.\n",
    "\n",
    "If you encounter any difficulties or have questions, please don't hesitate to reach out to our team via our Slack at `#cohort-3-help`. Our Technical Facilitators and Learning Support staff are here to help you navigate any challenges.\n"
   ]
  }
 ],
 "metadata": {
  "kernelspec": {
   "display_name": ".venv-pylatest",
   "language": "python",
   "name": "python3"
  },
  "language_info": {
   "codemirror_mode": {
    "name": "ipython",
    "version": 3
   },
   "file_extension": ".py",
   "mimetype": "text/x-python",
   "name": "python",
   "nbconvert_exporter": "python",
   "pygments_lexer": "ipython3",
   "version": "3.13.2"
  }
 },
 "nbformat": 4,
 "nbformat_minor": 2
}
